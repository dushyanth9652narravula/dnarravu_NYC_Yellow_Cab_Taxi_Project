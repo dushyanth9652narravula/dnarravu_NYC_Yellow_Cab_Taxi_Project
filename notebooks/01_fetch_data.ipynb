{
 "cells": [
  {
   "cell_type": "markdown",
   "metadata": {},
   "source": [
    "## Fetching the Data Using Web Scraping"
   ]
  },
  {
   "cell_type": "code",
   "execution_count": 1,
   "metadata": {},
   "outputs": [],
   "source": [
    "# Lets import libraries\n",
    "\n",
    "from pathlib import Path\n",
    "import pandas as pd\n",
    "import requests"
   ]
  },
  {
   "cell_type": "code",
   "execution_count": 7,
   "metadata": {},
   "outputs": [],
   "source": [
    "def fetch_raw_data(year : int, month : int) -> str :\n",
    "\n",
    "    url = f\"https://d37ci6vzurychx.cloudfront.net/trip-data/yellow_tripdata_{year}-{month:02}.parquet\"\n",
    "\n",
    "    response = requests.get(url)\n",
    "\n",
    "    if response.status_code == 200 :\n",
    "\n",
    "        # Lets use pathlib to construct the path \n",
    "\n",
    "        path = Path(\"..\") / \"data\" / \"raw\" / f\"rides_{year}_{month:02}.parquet\"\n",
    "\n",
    "        # Ensure whether the parent directory exists or not\n",
    "\n",
    "        path.parent.mkdir(parents= True, exist_ok=True)\n",
    "\n",
    "        # Write the content to the file\n",
    "\n",
    "        path.write_bytes(response.content)\n",
    "\n",
    "        print(f\"Successfully fetched : {str(path)}\")\n",
    "\n",
    "        return str(path)\n",
    "    else:\n",
    "\n",
    "        raise Exception(f\"{url} is not available\")"
   ]
  },
  {
   "cell_type": "code",
   "execution_count": 8,
   "metadata": {},
   "outputs": [
    {
     "name": "stdout",
     "output_type": "stream",
     "text": [
      "Successfully fetched : ..\\data\\raw\\rides_2023_01.parquet\n"
     ]
    },
    {
     "data": {
      "text/plain": [
       "'..\\\\data\\\\raw\\\\rides_2023_01.parquet'"
      ]
     },
     "execution_count": 8,
     "metadata": {},
     "output_type": "execute_result"
    }
   ],
   "source": [
    "fetch_raw_data(2023,1)"
   ]
  }
 ],
 "metadata": {
  "kernelspec": {
   "display_name": "CDA500_Project1",
   "language": "python",
   "name": "python3"
  },
  "language_info": {
   "codemirror_mode": {
    "name": "ipython",
    "version": 3
   },
   "file_extension": ".py",
   "mimetype": "text/x-python",
   "name": "python",
   "nbconvert_exporter": "python",
   "pygments_lexer": "ipython3",
   "version": "3.10.0"
  }
 },
 "nbformat": 4,
 "nbformat_minor": 2
}
